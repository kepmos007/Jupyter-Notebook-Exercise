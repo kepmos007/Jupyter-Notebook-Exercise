{
 "cells": [
  {
   "cell_type": "markdown",
   "metadata": {},
   "source": [
    "# Data Science Tools and Ecosystem"
   ]
  },
  {
   "cell_type": "markdown",
   "metadata": {},
   "source": [
    "# Data Science Tools and Ecosystem"
   ]
  },
  {
   "cell_type": "markdown",
   "metadata": {},
   "source": [
    "# In this notebook, Data Science Tools and Ecosystem are summarized."
   ]
  },
  {
   "cell_type": "markdown",
   "metadata": {},
   "source": [
    "# In this notebook, Data Science Tools and Ecosystem are summarized.\n"
   ]
  },
  {
   "cell_type": "markdown",
   "metadata": {},
   "source": [
    "# Some of the popular languages that Data Scientists use are:\n",
    "## C++\n",
    "## R\n",
    "## Python"
   ]
  },
  {
   "cell_type": "markdown",
   "metadata": {},
   "source": [
    "# Some of the popular languages that Data Scientists use are:\n",
    "## C++\n",
    "## R\n",
    "## Python"
   ]
  },
  {
   "cell_type": "markdown",
   "metadata": {},
   "source": []
  },
  {
   "cell_type": "markdown",
   "metadata": {},
   "source": [
    "# Some of the commonly used libraries used by Data Scientists include:\n",
    "    1.  NumPy: A fundamental package for scientific computing with Python, used for numerical operations on arrays and matrices.\n",
    "    2.  Pandas: Provides high-performance, easy-to-use data structures and data analysis tools.\n",
    "    3.  Matplotlib: A plotting library used for creating static, interactive, and animated visualizations in Python.\n",
    "    4.  Scikit-learn: A simple and efficient tool for predictive data analysis, built on NumPy, SciPy, and matplotlib.\n",
    "    5.  TensorFlow: An open-source software library for dataflow and differentiable programming across a range of tasks, ideal for machine learning and deep learning."
   ]
  },
  {
   "cell_type": "markdown",
   "metadata": {},
   "source": [
    "# Some of the commonly used libraries used by Data Scientists include:\n",
    "    1.  NumPy: A fundamental package for scientific computing with Python, used for numerical operations on arrays and matrices.\n",
    "    2.  Pandas: Provides high-performance, easy-to-use data structures and data analysis tools.\n",
    "    3.  Matplotlib: A plotting library used for creating static, interactive, and animated visualizations in Python.\n",
    "    4.  Scikit-learn: A simple and efficient tool for predictive data analysis, built on NumPy, SciPy, and matplotlib.\n",
    "    5.  TensorFlow: An open-source software library for dataflow and differentiable programming across a range of tasks, ideal for machine learning and deep learning."
   ]
  },
  {
   "cell_type": "markdown",
   "metadata": {},
   "source": [
    "## Data Science Tools\n",
    "\n",
    "| Data Science Tools |\n",
    "|--------------------|\n",
    "| Jupyter Notebook   |\n",
    "| RStudio           |\n",
    "| Anaconda          |"
   ]
  },
  {
   "cell_type": "markdown",
   "metadata": {},
   "source": [
    "## Data Science Tools\n",
    "\n",
    "| Data Science Tools |\n",
    "|--------------------|\n",
    "| Jupyter Notebook   |\n",
    "| RStudio           |\n",
    "| Anaconda          |"
   ]
  },
  {
   "cell_type": "markdown",
   "metadata": {},
   "source": [
    "### Below are a few examples of evaluating arithmetic expressions in Python.\n",
    "\n",
    "1. Addition: `5 + 3`\n",
    "2. Subtraction: `10 - 7`\n",
    "3. Multiplication: `9 * 4`\n",
    "4. Division: `18 / 3`\n",
    "5. Exponentiation: `2 ** 3`\n",
    "6. Modulus (Remainder of Division): `14 % 5`"
   ]
  },
  {
   "cell_type": "markdown",
   "metadata": {},
   "source": [
    "### Below are a few examples of evaluating arithmetic expressions in Python.\n",
    "\n",
    "1. Addition: `5 + 3`\n",
    "2. Subtraction: `10 - 7`\n",
    "3. Multiplication: `9 * 4`\n",
    "4. Division: `18 / 3`\n",
    "5. Exponentiation: `2 ** 3`\n",
    "6. Modulus (Remainder of Division): `14 % 5`"
   ]
  },
  {
   "cell_type": "markdown",
   "metadata": {},
   "source": [
    "# This a simple arithmetic expression to mutiply then add integers"
   ]
  },
  {
   "cell_type": "code",
   "execution_count": 2,
   "metadata": {},
   "outputs": [
    {
     "data": {
      "text/plain": [
       "17"
      ]
     },
     "execution_count": 2,
     "metadata": {},
     "output_type": "execute_result"
    }
   ],
   "source": [
    "(3*4)+5"
   ]
  },
  {
   "cell_type": "code",
   "execution_count": 3,
   "metadata": {},
   "outputs": [
    {
     "data": {
      "text/plain": [
       "3.3333333333333335"
      ]
     },
     "execution_count": 3,
     "metadata": {},
     "output_type": "execute_result"
    }
   ],
   "source": [
    "# This will convert 200 minutes to hours by dividing by 60.\n",
    "hours = 200 / 60\n",
    "hours"
   ]
  },
  {
   "cell_type": "code",
   "execution_count": null,
   "metadata": {},
   "outputs": [],
   "source": []
  },
  {
   "cell_type": "markdown",
   "metadata": {},
   "source": [
    "## **Objectives:**\n",
    "\n",
    "- Learned about popular programming languages used in Data Science.\n",
    "- Explored various data science libraries and their functionalities.\n",
    "- Understood how to work with markdown cells in Jupyter Notebooks for documentation.\n",
    "- Gained knowledge on converting units, such as minutes to hours, using Python.\n",
    "- Practiced creating tables and lists in markdown for presenting information."
   ]
  },
  {
   "cell_type": "markdown",
   "metadata": {},
   "source": [
    "## **Objectives:**\n",
    "\n",
    "- Learned about popular programming languages used in Data Science.\n",
    "- Explored various data science libraries and their functionalities.\n",
    "- Understood how to work with markdown cells in Jupyter Notebooks for documentation.\n",
    "- Gained knowledge on converting units, such as minutes to hours, using Python.\n",
    "- Practiced creating tables and lists in markdown for presenting information."
   ]
  },
  {
   "cell_type": "markdown",
   "metadata": {},
   "source": [
    "## Author\n",
    "\n",
    "Jiang Peng"
   ]
  },
  {
   "cell_type": "markdown",
   "metadata": {},
   "source": [
    "## Author\n",
    "\n",
    "Jiang Peng"
   ]
  }
 ],
 "metadata": {
  "kernelspec": {
   "display_name": "Python 3",
   "language": "python",
   "name": "python3"
  },
  "language_info": {
   "codemirror_mode": {
    "name": "ipython",
    "version": 3
   },
   "file_extension": ".py",
   "mimetype": "text/x-python",
   "name": "python",
   "nbconvert_exporter": "python",
   "pygments_lexer": "ipython3",
   "version": "3.12.2"
  }
 },
 "nbformat": 4,
 "nbformat_minor": 2
}
